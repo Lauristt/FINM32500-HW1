{
 "cells": [
  {
   "cell_type": "code",
   "execution_count": 4,
   "metadata": {},
   "outputs": [
    {
     "name": "stdout",
     "output_type": "stream",
     "text": [
      "--- Running Test 1: CSV File Parsing ---\n",
      "Successfully loaded 500 data points.\n",
      "Data point types are correct.\n",
      "Error: The data file 'non_existent_file.csv' was not found.\n",
      "Please run 'data_generator.py' first to create it.\n",
      "File not found error was handled correctly.\n",
      "Test 1 Passed: CSV parsing and data validation successful.\n"
     ]
    }
   ],
   "source": [
    "import unittest\n",
    "from datetime import datetime\n",
    "from dataclasses import FrozenInstanceError\n",
    "from data_loader import read_market_data_fixed, MarketDataPoint\n",
    "from models import Order, OrderStatus, OrderError\n",
    "\n",
    "print(\"--- Running Test 1: CSV File Parsing ---\")\n",
    "\n",
    "market_data = read_market_data_fixed('market_data.csv')\n",
    "assert isinstance(market_data, list), \"The function should return a list.\"\n",
    "assert len(market_data) > 0, \"The data list should not be empty.\"\n",
    "print(f\"Successfully loaded {len(market_data)} data points.\")\n",
    "\n",
    "first_point = market_data[0]\n",
    "assert isinstance(first_point, MarketDataPoint), \"List elements should be MarketDataPoint objects.\"\n",
    "assert isinstance(first_point.timestamp, datetime), \"The timestamp attribute should be a datetime object.\"\n",
    "assert isinstance(first_point.price, float), \"The price attribute should be a float.\"\n",
    "print(\"Data point types are correct.\")\n",
    "\n",
    "non_existent_data = read_market_data_fixed('non_existent_file.csv')\n",
    "assert non_existent_data == [], \"Should return an empty list when the file is not found.\"\n",
    "print(\"File not found error was handled correctly.\")\n",
    "\n",
    "\n",
    "print(\"Test 1 Passed: CSV parsing and data validation successful.\")\n"
   ]
  },
  {
   "cell_type": "code",
   "execution_count": 5,
   "metadata": {},
   "outputs": [
    {
     "name": "stdout",
     "output_type": "stream",
     "text": [
      "--- Running Test 2: Object Mutability ---\n",
      "Initial order status: OrderStatus.NEW\n",
      "Updated order status: OrderStatus.FILLED\n",
      "The Order object's mutability is as expected.\n",
      "\n",
      "Initial market data price: 150.0\n",
      "Successfully caught the error when trying to change the price.\n",
      "The MarketDataPoint object's immutability (frozen) is as expected.\n",
      " Test 2 Passed: Mutable/Immutable behaviors are correct.\n"
     ]
    }
   ],
   "source": [
    "print(\"--- Running Test 2: Object Mutability ---\")\n",
    "\n",
    "# Test 2.1: Demonstrate that an Order object is mutable\n",
    "my_order = Order(symbol=\"AAPL\", quantity=100, price=150.0, status=OrderStatus.NEW)\n",
    "print(f\"Initial order status: {my_order.status}\")\n",
    "\n",
    "# Update the status\n",
    "my_order.status = OrderStatus.FILLED\n",
    "assert my_order.status == OrderStatus.FILLED, \"Order.status should be updatable.\"\n",
    "print(f\"Updated order status: {my_order.status}\")\n",
    "print(\"The Order object's mutability is as expected.\")\n",
    "\n",
    "\n",
    "# Test 2.2: Demonstrate that a MarketDataPoint object is immutable (frozen)\n",
    "market_point = MarketDataPoint(timestamp=datetime.now(), symbol=\"AAPL\", price=150.0)\n",
    "print(f\"\\nInitial market data price: {market_point.price}\")\n",
    "\n",
    "# This block should raise a FrozenInstanceError\n",
    "try:\n",
    "    market_point.price = 151.0\n",
    "    # If this line is reached, the test fails\n",
    "    assert False, \"MarketDataPoint should be immutable and raise an error on modification.\"\n",
    "except FrozenInstanceError:\n",
    "    print(\"Successfully caught the error when trying to change the price.\")\n",
    "    assert market_point.price == 150.0, \"The price should not have changed.\"\n",
    "    print(\"The MarketDataPoint object's immutability (frozen) is as expected.\")\n",
    "except Exception as e:\n",
    "    assert False, f\"Caught an unexpected error: {e}\"\n",
    "\n",
    "\n",
    "print(\" Test 2 Passed: Mutable/Immutable behaviors are correct.\")"
   ]
  },
  {
   "cell_type": "code",
   "execution_count": 6,
   "metadata": {},
   "outputs": [
    {
     "name": "stdout",
     "output_type": "stream",
     "text": [
      "--- Running Test 3: Exception Handling ---\n",
      "Successfully caught the expected exception: Order quantity cannot be zero\n",
      "OrderError was correctly raised for an invalid order.\n",
      " Test 3 Passed: Custom exceptions are working correctly.\n"
     ]
    }
   ],
   "source": [
    "print(\"--- Running Test 3: Exception Handling ---\")\n",
    "\n",
    "# Test 3.1: Raise OrderError for an order with zero quantity\n",
    "try:\n",
    "    invalid_order = Order(symbol=\"AAPL\", quantity=0, price=150.0)\n",
    "    invalid_order.validate()\n",
    "    # If this line is reached, the test fails\n",
    "    assert False, \"An order with zero quantity should raise an OrderError.\"\n",
    "except OrderError as e:\n",
    "    print(f\"Successfully caught the expected exception: {e}\")\n",
    "    assert \"quantity cannot be zero\" in str(e), \"The error message is not as expected.\"\n",
    "except Exception as e:\n",
    "    assert False, f\"Caught an unexpected error: {e}\"\n",
    "\n",
    "print(\"OrderError was correctly raised for an invalid order.\")\n",
    "\n",
    "\n",
    "print(\" Test 3 Passed: Custom exceptions are working correctly.\")"
   ]
  }
 ],
 "metadata": {
  "kernelspec": {
   "display_name": "base",
   "language": "python",
   "name": "python3"
  },
  "language_info": {
   "codemirror_mode": {
    "name": "ipython",
    "version": 3
   },
   "file_extension": ".py",
   "mimetype": "text/x-python",
   "name": "python",
   "nbconvert_exporter": "python",
   "pygments_lexer": "ipython3",
   "version": "3.10.13"
  }
 },
 "nbformat": 4,
 "nbformat_minor": 5
}
